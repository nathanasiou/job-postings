{
 "cells": [
  {
   "cell_type": "code",
   "execution_count": 1,
   "id": "40f57b2c",
   "metadata": {},
   "outputs": [],
   "source": [
    "# install dependencies\n",
    "# pip install webdriver-manager"
   ]
  },
  {
   "cell_type": "code",
   "execution_count": 2,
   "id": "d77ab974",
   "metadata": {},
   "outputs": [],
   "source": [
    "# import modules\n",
    "from selenium import webdriver\n",
    "from selenium.webdriver.common.keys import Keys\n",
    "from selenium.webdriver.common.by import By"
   ]
  },
  {
   "cell_type": "code",
   "execution_count": 3,
   "id": "e3dc1535",
   "metadata": {},
   "outputs": [],
   "source": [
    "def transform(): \n",
    "    # extract job card elements\n",
    "    job_cards_elements = driver.find_elements(By.CLASS_NAME, 'job_seen_beacon')\n",
    "    # gather title, company, location, and salary\n",
    "    for job in job_cards_elements:\n",
    "        title = job.find_element(By.TAG_NAME, \"a\").text\n",
    "        company = job.find_element(By.CLASS_NAME, \"companyName\").text\n",
    "        location = job.find_element(By.CLASS_NAME, \"companyLocation\").text\n",
    "\n",
    "        # try except, since some postings do not have salary\n",
    "        try:\n",
    "            salary = job.find_element(By.CLASS_NAME, \"attribute_snippet\").text\n",
    "        except:\n",
    "            salary = ''\n",
    "        \n",
    "        # create dictionary for job attributes\n",
    "        job_posting = {\n",
    "            'title': title,\n",
    "            'company': company,\n",
    "            'location': location,\n",
    "            'salary': salary\n",
    "        }\n",
    "        \n",
    "        # append dictionary to list for each job posting\n",
    "        job_posting_list.append(job_posting)\n",
    "job_posting_list = []"
   ]
  },
  {
   "cell_type": "code",
   "execution_count": 4,
   "id": "7414d4f7",
   "metadata": {},
   "outputs": [],
   "source": [
    "# set desired number pages to loop through; choosing \n",
    "total_pages = 55\n",
    "\n",
    "# loop through pages\n",
    "for page in range(0,total_pages):\n",
    "    # create new instance of Edge driver\n",
    "    url = f\"https://www.indeed.com/jobs?q=Data+Scientist&start={page}\"\n",
    "    driver = webdriver.Chrome()\n",
    "    driver.get(url)\n",
    "    transform()\n",
    "    # closer webdriver\n",
    "    driver.quit()"
   ]
  },
  {
   "cell_type": "code",
   "execution_count": 5,
   "id": "d5c09b69",
   "metadata": {},
   "outputs": [
    {
     "name": "stdout",
     "output_type": "stream",
     "text": [
      "825\n"
     ]
    },
    {
     "ename": "AttributeError",
     "evalue": "'list' object has no attribute 'head'",
     "output_type": "error",
     "traceback": [
      "\u001b[1;31m----------------------------------------------------------------\u001b[0m",
      "\u001b[1;31mAttributeError\u001b[0m                 Traceback (most recent call last)",
      "Cell \u001b[1;32mIn[5], line 2\u001b[0m\n\u001b[0;32m      1\u001b[0m \u001b[38;5;28mprint\u001b[39m(\u001b[38;5;28mlen\u001b[39m(job_posting_list))\n\u001b[1;32m----> 2\u001b[0m \u001b[38;5;28mprint\u001b[39m(\u001b[43mjob_posting_list\u001b[49m\u001b[38;5;241;43m.\u001b[39;49m\u001b[43mhead\u001b[49m())\n",
      "\u001b[1;31mAttributeError\u001b[0m: 'list' object has no attribute 'head'"
     ]
    }
   ],
   "source": [
    "print(len(job_posting_list))\n",
    "print(job_posting_list.head())"
   ]
  }
 ],
 "metadata": {
  "kernelspec": {
   "display_name": "Python 3 (ipykernel)",
   "language": "python",
   "name": "python3"
  },
  "language_info": {
   "codemirror_mode": {
    "name": "ipython",
    "version": 3
   },
   "file_extension": ".py",
   "mimetype": "text/x-python",
   "name": "python",
   "nbconvert_exporter": "python",
   "pygments_lexer": "ipython3",
   "version": "3.8.12"
  }
 },
 "nbformat": 4,
 "nbformat_minor": 5
}
