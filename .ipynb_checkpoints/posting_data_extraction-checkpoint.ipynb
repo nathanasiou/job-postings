{
 "cells": [
  {
   "cell_type": "markdown",
   "id": "8385224f",
   "metadata": {},
   "source": [
    "### Extracting Indeed Job Postings With Selenium"
   ]
  },
  {
   "cell_type": "code",
   "execution_count": 1,
   "id": "40f57b2c",
   "metadata": {},
   "outputs": [],
   "source": [
    "# install dependencies\n",
    "# pip install webdriver-manager"
   ]
  },
  {
   "cell_type": "code",
   "execution_count": 2,
   "id": "d77ab974",
   "metadata": {},
   "outputs": [],
   "source": [
    "# import modules\n",
    "from selenium import webdriver\n",
    "from selenium.webdriver.common.keys import Keys\n",
    "from selenium.webdriver.common.by import By\n",
    "import pandas as pd"
   ]
  },
  {
   "cell_type": "code",
   "execution_count": 3,
   "id": "e3dc1535",
   "metadata": {},
   "outputs": [],
   "source": [
    "def transform(): \n",
    "    '''Returns a list of job posting information, including job title, company,\n",
    "        location, and salary.\n",
    "    '''\n",
    "    # extract job card elements\n",
    "    job_cards_elements = driver.find_elements(By.CLASS_NAME, 'job_seen_beacon')\n",
    "    # gather title, company, location, and salary\n",
    "    for job in job_cards_elements:\n",
    "        title = job.find_element(By.TAG_NAME, \"a\").text\n",
    "        company = job.find_element(By.CLASS_NAME, \"companyName\").text\n",
    "        location = job.find_element(By.CLASS_NAME, \"companyLocation\").text\n",
    "\n",
    "        # try except, since some postings do not have salary\n",
    "        try:\n",
    "            salary = job.find_element(By.CLASS_NAME, \"attribute_snippet\").text\n",
    "        except:\n",
    "            salary = ''\n",
    "        \n",
    "        # create dictionary for job attributes\n",
    "        job_posting = {\n",
    "            'title': title,\n",
    "            'company': company,\n",
    "            'location': location,\n",
    "            'salary': salary\n",
    "        }\n",
    "        \n",
    "        # append dictionary to list for each job posting\n",
    "        job_posting_list.append(job_posting)\n",
    "job_posting_list = []"
   ]
  },
  {
   "cell_type": "code",
   "execution_count": 4,
   "id": "7414d4f7",
   "metadata": {},
   "outputs": [],
   "source": [
    "# set desired number pages to loop through; choosing 65 to get a sample size\n",
    "#    of 10% from ~10000 postings = 1000.\n",
    "total_pages = 65\n",
    "\n",
    "# loop through pages\n",
    "for page in range(0,total_pages):\n",
    "    # create new instance of Edge driver\n",
    "    url = f\"https://www.indeed.com/jobs?q=Data+Scientist&start={page}\"\n",
    "    driver = webdriver.Chrome()\n",
    "    driver.get(url)\n",
    "    transform()\n",
    "    driver.quit()"
   ]
  },
  {
   "cell_type": "code",
   "execution_count": 6,
   "id": "d5c09b69",
   "metadata": {},
   "outputs": [
    {
     "name": "stdout",
     "output_type": "stream",
     "text": [
      "900\n",
      "                                     title  \\\n",
      "0                      Lead Data Scientist   \n",
      "1                Senior Predictive Modeler   \n",
      "2                            Data Engineer   \n",
      "3  Risk Intelligence - Data Analytics Lead   \n",
      "4                           Data Scientist   \n",
      "\n",
      "                                     company  \\\n",
      "0  Disney Media & Entertainment Distribution   \n",
      "1                         Sitewise Analytics   \n",
      "2                        Booz Allen Hamilton   \n",
      "3                                   Citizens   \n",
      "4                          Brightside Health   \n",
      "\n",
      "                               location                      salary  \n",
      "0                Santa Monica, CA 90401  $149,240 - $200,200 a year  \n",
      "1                            Dallas, TX         From $90,000 a year  \n",
      "2  Hybrid remote in Arlington, VA 22202   $73,100 - $166,000 a year  \n",
      "3     Boston, MA 02112 \\n(Central area)                   Full-time  \n",
      "4                                Remote                   Full-time  \n"
     ]
    }
   ],
   "source": [
    "# check number of posting extracted \n",
    "print(len(job_posting_list))\n",
    "\n",
    "# convert to dataframe and look at first five rows\n",
    "df_postings = pd.DataFrame(job_posting_list)\n",
    "print(df_postings.head())"
   ]
  },
  {
   "cell_type": "code",
   "execution_count": 9,
   "id": "dcc0cc11",
   "metadata": {},
   "outputs": [],
   "source": [
    "# convert to csv \n",
    "df_postings.to_csv('job_postings.csv')"
   ]
  }
 ],
 "metadata": {
  "kernelspec": {
   "display_name": "Python 3 (ipykernel)",
   "language": "python",
   "name": "python3"
  },
  "language_info": {
   "codemirror_mode": {
    "name": "ipython",
    "version": 3
   },
   "file_extension": ".py",
   "mimetype": "text/x-python",
   "name": "python",
   "nbconvert_exporter": "python",
   "pygments_lexer": "ipython3",
   "version": "3.8.12"
  }
 },
 "nbformat": 4,
 "nbformat_minor": 5
}
