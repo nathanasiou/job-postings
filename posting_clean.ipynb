{
 "cells": [
  {
   "cell_type": "code",
   "execution_count": 1,
   "id": "10fa72a3",
   "metadata": {},
   "outputs": [],
   "source": [
    "import pandas as pd # data processing\n",
    "import matplotlib.pyplot as plt # data visualization\n",
    "import statistics "
   ]
  },
  {
   "cell_type": "code",
   "execution_count": 2,
   "id": "c6ea7c38",
   "metadata": {},
   "outputs": [],
   "source": [
    "df = pd.read_csv('job_postings_clean.csv')"
   ]
  },
  {
   "cell_type": "code",
   "execution_count": 3,
   "id": "3267df04",
   "metadata": {},
   "outputs": [
    {
     "data": {
      "text/html": [
       "<div>\n",
       "<style scoped>\n",
       "    .dataframe tbody tr th:only-of-type {\n",
       "        vertical-align: middle;\n",
       "    }\n",
       "\n",
       "    .dataframe tbody tr th {\n",
       "        vertical-align: top;\n",
       "    }\n",
       "\n",
       "    .dataframe thead th {\n",
       "        text-align: right;\n",
       "    }\n",
       "</style>\n",
       "<table border=\"1\" class=\"dataframe\">\n",
       "  <thead>\n",
       "    <tr style=\"text-align: right;\">\n",
       "      <th></th>\n",
       "      <th>title</th>\n",
       "      <th>company</th>\n",
       "      <th>salary_updated</th>\n",
       "      <th>environment</th>\n",
       "      <th>location_updated</th>\n",
       "    </tr>\n",
       "  </thead>\n",
       "  <tbody>\n",
       "    <tr>\n",
       "      <th>0</th>\n",
       "      <td>AI Electrical / Computer Engineer</td>\n",
       "      <td>General Technical Services, LLC</td>\n",
       "      <td>Full-time</td>\n",
       "      <td>In-Person</td>\n",
       "      <td>Adelphi, MD</td>\n",
       "    </tr>\n",
       "    <tr>\n",
       "      <th>1</th>\n",
       "      <td>Clinical Laboratory Scientist CLS , Medical Da...</td>\n",
       "      <td>Clinical Management Consultants</td>\n",
       "      <td>85225 - 135355</td>\n",
       "      <td>In-Person</td>\n",
       "      <td>Palo Alto, CA</td>\n",
       "    </tr>\n",
       "    <tr>\n",
       "      <th>2</th>\n",
       "      <td>Senior Data Scientist</td>\n",
       "      <td>WALGREENS</td>\n",
       "      <td>NaN</td>\n",
       "      <td>In-Person</td>\n",
       "      <td>Deerfield, IL</td>\n",
       "    </tr>\n",
       "    <tr>\n",
       "      <th>3</th>\n",
       "      <td>Data Scientist II</td>\n",
       "      <td>Net2Source</td>\n",
       "      <td>114400 - 120640</td>\n",
       "      <td>In-Person</td>\n",
       "      <td>Los Angeles, CA</td>\n",
       "    </tr>\n",
       "    <tr>\n",
       "      <th>4</th>\n",
       "      <td>Data Scientist / Analyst</td>\n",
       "      <td>Kforce</td>\n",
       "      <td>72800 - 93600</td>\n",
       "      <td>In-Person</td>\n",
       "      <td>Juno Beach, FL</td>\n",
       "    </tr>\n",
       "  </tbody>\n",
       "</table>\n",
       "</div>"
      ],
      "text/plain": [
       "                                               title  \\\n",
       "0                  AI Electrical / Computer Engineer   \n",
       "1  Clinical Laboratory Scientist CLS , Medical Da...   \n",
       "2                              Senior Data Scientist   \n",
       "3                                  Data Scientist II   \n",
       "4                           Data Scientist / Analyst   \n",
       "\n",
       "                           company   salary_updated environment  \\\n",
       "0  General Technical Services, LLC        Full-time   In-Person   \n",
       "1  Clinical Management Consultants  85225 - 135355    In-Person   \n",
       "2                        WALGREENS              NaN   In-Person   \n",
       "3                       Net2Source  114400 - 120640   In-Person   \n",
       "4                           Kforce    72800 - 93600   In-Person   \n",
       "\n",
       "  location_updated  \n",
       "0      Adelphi, MD  \n",
       "1    Palo Alto, CA  \n",
       "2    Deerfield, IL  \n",
       "3  Los Angeles, CA  \n",
       "4   Juno Beach, FL  "
      ]
     },
     "execution_count": 3,
     "metadata": {},
     "output_type": "execute_result"
    }
   ],
   "source": [
    "df.head()"
   ]
  },
  {
   "cell_type": "code",
   "execution_count": 4,
   "id": "2e73a52c",
   "metadata": {},
   "outputs": [],
   "source": [
    "# I want to split salary into min and max, since there are wide ranges.\n",
    "\n",
    "# if salary has '-', take first item in list as min second item in list as max, if no '-' take salary as is.\n",
    "# cleaning round 2\n",
    "min_list = []\n",
    "max_list = []\n",
    "for num in df['salary_updated']:\n",
    "    \n",
    "    try:\n",
    "        # split each salary on '-' and take first item in list (index 0)\n",
    "        min_list.append(int(str.split(str(num), '-')[0]))\n",
    "    except:\n",
    "        if \"time\" in str(num) or 'nan' in str(num) or \"Contract\" in str(num) or \"salary\" in str(num):\n",
    "            min_list.append(int(0))\n",
    "        else:\n",
    "            min_list.append(int(num))\n",
    "        \n",
    "    try:\n",
    "         # split each salary on '-' and take second item in list (index 1)\n",
    "        max_list.append(int(str.split(str(num), '-')[1]))\n",
    "    except:\n",
    "        if \"time\" in str(num) or 'nan' in str(num) or \"Contract\" in str(num) or \"salary\" in str(num):\n",
    "            max_list.append(int(0))\n",
    "        else:\n",
    "            max_list.append(int(num))\n",
    "            \n",
    "        continue\n",
    "        \n",
    "df['salary_min'] = min_list\n",
    "df['salary_max'] = max_list"
   ]
  },
  {
   "cell_type": "code",
   "execution_count": 5,
   "id": "5cd3676c",
   "metadata": {},
   "outputs": [
    {
     "data": {
      "text/html": [
       "<div>\n",
       "<style scoped>\n",
       "    .dataframe tbody tr th:only-of-type {\n",
       "        vertical-align: middle;\n",
       "    }\n",
       "\n",
       "    .dataframe tbody tr th {\n",
       "        vertical-align: top;\n",
       "    }\n",
       "\n",
       "    .dataframe thead th {\n",
       "        text-align: right;\n",
       "    }\n",
       "</style>\n",
       "<table border=\"1\" class=\"dataframe\">\n",
       "  <thead>\n",
       "    <tr style=\"text-align: right;\">\n",
       "      <th></th>\n",
       "      <th>title</th>\n",
       "      <th>company</th>\n",
       "      <th>salary_updated</th>\n",
       "      <th>environment</th>\n",
       "      <th>location_updated</th>\n",
       "      <th>salary_min</th>\n",
       "      <th>salary_max</th>\n",
       "    </tr>\n",
       "  </thead>\n",
       "  <tbody>\n",
       "    <tr>\n",
       "      <th>0</th>\n",
       "      <td>AI Electrical / Computer Engineer</td>\n",
       "      <td>General Technical Services, LLC</td>\n",
       "      <td>Full-time</td>\n",
       "      <td>In-Person</td>\n",
       "      <td>Adelphi, MD</td>\n",
       "      <td>0</td>\n",
       "      <td>0</td>\n",
       "    </tr>\n",
       "    <tr>\n",
       "      <th>1</th>\n",
       "      <td>Clinical Laboratory Scientist CLS , Medical Da...</td>\n",
       "      <td>Clinical Management Consultants</td>\n",
       "      <td>85225 - 135355</td>\n",
       "      <td>In-Person</td>\n",
       "      <td>Palo Alto, CA</td>\n",
       "      <td>85225</td>\n",
       "      <td>135355</td>\n",
       "    </tr>\n",
       "    <tr>\n",
       "      <th>2</th>\n",
       "      <td>Senior Data Scientist</td>\n",
       "      <td>WALGREENS</td>\n",
       "      <td>NaN</td>\n",
       "      <td>In-Person</td>\n",
       "      <td>Deerfield, IL</td>\n",
       "      <td>0</td>\n",
       "      <td>0</td>\n",
       "    </tr>\n",
       "    <tr>\n",
       "      <th>3</th>\n",
       "      <td>Data Scientist II</td>\n",
       "      <td>Net2Source</td>\n",
       "      <td>114400 - 120640</td>\n",
       "      <td>In-Person</td>\n",
       "      <td>Los Angeles, CA</td>\n",
       "      <td>114400</td>\n",
       "      <td>120640</td>\n",
       "    </tr>\n",
       "    <tr>\n",
       "      <th>4</th>\n",
       "      <td>Data Scientist / Analyst</td>\n",
       "      <td>Kforce</td>\n",
       "      <td>72800 - 93600</td>\n",
       "      <td>In-Person</td>\n",
       "      <td>Juno Beach, FL</td>\n",
       "      <td>72800</td>\n",
       "      <td>93600</td>\n",
       "    </tr>\n",
       "  </tbody>\n",
       "</table>\n",
       "</div>"
      ],
      "text/plain": [
       "                                               title  \\\n",
       "0                  AI Electrical / Computer Engineer   \n",
       "1  Clinical Laboratory Scientist CLS , Medical Da...   \n",
       "2                              Senior Data Scientist   \n",
       "3                                  Data Scientist II   \n",
       "4                           Data Scientist / Analyst   \n",
       "\n",
       "                           company   salary_updated environment  \\\n",
       "0  General Technical Services, LLC        Full-time   In-Person   \n",
       "1  Clinical Management Consultants  85225 - 135355    In-Person   \n",
       "2                        WALGREENS              NaN   In-Person   \n",
       "3                       Net2Source  114400 - 120640   In-Person   \n",
       "4                           Kforce    72800 - 93600   In-Person   \n",
       "\n",
       "  location_updated  salary_min  salary_max  \n",
       "0      Adelphi, MD           0           0  \n",
       "1    Palo Alto, CA       85225      135355  \n",
       "2    Deerfield, IL           0           0  \n",
       "3  Los Angeles, CA      114400      120640  \n",
       "4   Juno Beach, FL       72800       93600  "
      ]
     },
     "execution_count": 5,
     "metadata": {},
     "output_type": "execute_result"
    }
   ],
   "source": [
    "df.head()"
   ]
  },
  {
   "cell_type": "code",
   "execution_count": 6,
   "id": "f0a203e8",
   "metadata": {},
   "outputs": [
    {
     "name": "stdout",
     "output_type": "stream",
     "text": [
      "<class 'pandas.core.frame.DataFrame'>\n",
      "RangeIndex: 1877 entries, 0 to 1876\n",
      "Data columns (total 7 columns):\n",
      " #   Column            Non-Null Count  Dtype \n",
      "---  ------            --------------  ----- \n",
      " 0   title             1876 non-null   object\n",
      " 1   company           1876 non-null   object\n",
      " 2   salary_updated    1394 non-null   object\n",
      " 3   environment       1877 non-null   object\n",
      " 4   location_updated  1870 non-null   object\n",
      " 5   salary_min        1877 non-null   int64 \n",
      " 6   salary_max        1877 non-null   int64 \n",
      "dtypes: int64(2), object(5)\n",
      "memory usage: 102.8+ KB\n"
     ]
    }
   ],
   "source": [
    "# take a closer look at the data\n",
    "df.info()"
   ]
  },
  {
   "cell_type": "code",
   "execution_count": 7,
   "id": "497403e3",
   "metadata": {},
   "outputs": [
    {
     "name": "stdout",
     "output_type": "stream",
     "text": [
      "<class 'pandas.core.frame.DataFrame'>\n",
      "Int64Index: 275 entries, 0 to 1874\n",
      "Data columns (total 7 columns):\n",
      " #   Column            Non-Null Count  Dtype \n",
      "---  ------            --------------  ----- \n",
      " 0   title             274 non-null    object\n",
      " 1   company           274 non-null    object\n",
      " 2   salary_updated    218 non-null    object\n",
      " 3   environment       275 non-null    object\n",
      " 4   location_updated  274 non-null    object\n",
      " 5   salary_min        275 non-null    int64 \n",
      " 6   salary_max        275 non-null    int64 \n",
      "dtypes: int64(2), object(5)\n",
      "memory usage: 17.2+ KB\n"
     ]
    }
   ],
   "source": [
    "df.drop_duplicates().info()"
   ]
  },
  {
   "cell_type": "code",
   "execution_count": 8,
   "id": "61031828",
   "metadata": {},
   "outputs": [
    {
     "data": {
      "text/html": [
       "<div>\n",
       "<style scoped>\n",
       "    .dataframe tbody tr th:only-of-type {\n",
       "        vertical-align: middle;\n",
       "    }\n",
       "\n",
       "    .dataframe tbody tr th {\n",
       "        vertical-align: top;\n",
       "    }\n",
       "\n",
       "    .dataframe thead th {\n",
       "        text-align: right;\n",
       "    }\n",
       "</style>\n",
       "<table border=\"1\" class=\"dataframe\">\n",
       "  <thead>\n",
       "    <tr style=\"text-align: right;\">\n",
       "      <th></th>\n",
       "      <th>salary_min</th>\n",
       "      <th>salary_max</th>\n",
       "    </tr>\n",
       "  </thead>\n",
       "  <tbody>\n",
       "    <tr>\n",
       "      <th>count</th>\n",
       "      <td>1.877000e+03</td>\n",
       "      <td>1.877000e+03</td>\n",
       "    </tr>\n",
       "    <tr>\n",
       "      <th>mean</th>\n",
       "      <td>6.073812e+04</td>\n",
       "      <td>7.991876e+04</td>\n",
       "    </tr>\n",
       "    <tr>\n",
       "      <th>std</th>\n",
       "      <td>2.538591e+05</td>\n",
       "      <td>2.960700e+05</td>\n",
       "    </tr>\n",
       "    <tr>\n",
       "      <th>min</th>\n",
       "      <td>0.000000e+00</td>\n",
       "      <td>0.000000e+00</td>\n",
       "    </tr>\n",
       "    <tr>\n",
       "      <th>25%</th>\n",
       "      <td>0.000000e+00</td>\n",
       "      <td>0.000000e+00</td>\n",
       "    </tr>\n",
       "    <tr>\n",
       "      <th>50%</th>\n",
       "      <td>0.000000e+00</td>\n",
       "      <td>0.000000e+00</td>\n",
       "    </tr>\n",
       "    <tr>\n",
       "      <th>75%</th>\n",
       "      <td>1.100000e+05</td>\n",
       "      <td>1.560000e+05</td>\n",
       "    </tr>\n",
       "    <tr>\n",
       "      <th>max</th>\n",
       "      <td>1.070368e+07</td>\n",
       "      <td>1.239472e+07</td>\n",
       "    </tr>\n",
       "  </tbody>\n",
       "</table>\n",
       "</div>"
      ],
      "text/plain": [
       "         salary_min    salary_max\n",
       "count  1.877000e+03  1.877000e+03\n",
       "mean   6.073812e+04  7.991876e+04\n",
       "std    2.538591e+05  2.960700e+05\n",
       "min    0.000000e+00  0.000000e+00\n",
       "25%    0.000000e+00  0.000000e+00\n",
       "50%    0.000000e+00  0.000000e+00\n",
       "75%    1.100000e+05  1.560000e+05\n",
       "max    1.070368e+07  1.239472e+07"
      ]
     },
     "execution_count": 8,
     "metadata": {},
     "output_type": "execute_result"
    }
   ],
   "source": [
    "# basic stats\n",
    "df.describe()"
   ]
  },
  {
   "cell_type": "code",
   "execution_count": 9,
   "id": "116eb271",
   "metadata": {},
   "outputs": [],
   "source": [
    "#drop dups\n",
    "df = df.drop_duplicates(inplace = True)"
   ]
  },
  {
   "cell_type": "code",
   "execution_count": 10,
   "id": "b508caf1",
   "metadata": {},
   "outputs": [],
   "source": [
    "# df.to_csv('job_postings_clean_v2.csv', index = False)"
   ]
  },
  {
   "cell_type": "code",
   "execution_count": 16,
   "id": "b8996825",
   "metadata": {},
   "outputs": [
    {
     "ename": "TypeError",
     "evalue": "show() got an unexpected keyword argument 'figsize'",
     "output_type": "error",
     "traceback": [
      "\u001b[1;31m---------------------------------------------------------------------------\u001b[0m",
      "\u001b[1;31mTypeError\u001b[0m                                 Traceback (most recent call last)",
      "Cell \u001b[1;32mIn[16], line 6\u001b[0m\n\u001b[0;32m      4\u001b[0m img \u001b[38;5;241m=\u001b[39m mpimg\u001b[38;5;241m.\u001b[39mimread(\u001b[38;5;124m'\u001b[39m\u001b[38;5;124mpng_job_postings.png\u001b[39m\u001b[38;5;124m'\u001b[39m)\n\u001b[0;32m      5\u001b[0m imgplot \u001b[38;5;241m=\u001b[39m plt\u001b[38;5;241m.\u001b[39mimshow(img)\n\u001b[1;32m----> 6\u001b[0m \u001b[43mplt\u001b[49m\u001b[38;5;241;43m.\u001b[39;49m\u001b[43mshow\u001b[49m\u001b[43m(\u001b[49m\u001b[43mfigsize\u001b[49m\u001b[38;5;241;43m=\u001b[39;49m\u001b[43m(\u001b[49m\u001b[38;5;241;43m8\u001b[39;49m\u001b[43m,\u001b[49m\u001b[43m \u001b[49m\u001b[38;5;241;43m6\u001b[39;49m\u001b[43m)\u001b[49m\u001b[43m)\u001b[49m\n",
      "File \u001b[1;32m~\\miniconda3\\lib\\site-packages\\matplotlib\\pyplot.py:378\u001b[0m, in \u001b[0;36mshow\u001b[1;34m(*args, **kwargs)\u001b[0m\n\u001b[0;32m    334\u001b[0m \u001b[38;5;124;03m\"\"\"\u001b[39;00m\n\u001b[0;32m    335\u001b[0m \u001b[38;5;124;03mDisplay all open figures.\u001b[39;00m\n\u001b[0;32m    336\u001b[0m \n\u001b[1;32m   (...)\u001b[0m\n\u001b[0;32m    375\u001b[0m \u001b[38;5;124;03mexplicitly there.\u001b[39;00m\n\u001b[0;32m    376\u001b[0m \u001b[38;5;124;03m\"\"\"\u001b[39;00m\n\u001b[0;32m    377\u001b[0m _warn_if_gui_out_of_main_thread()\n\u001b[1;32m--> 378\u001b[0m \u001b[38;5;28;01mreturn\u001b[39;00m \u001b[43m_backend_mod\u001b[49m\u001b[38;5;241;43m.\u001b[39;49m\u001b[43mshow\u001b[49m\u001b[43m(\u001b[49m\u001b[38;5;241;43m*\u001b[39;49m\u001b[43margs\u001b[49m\u001b[43m,\u001b[49m\u001b[43m \u001b[49m\u001b[38;5;241;43m*\u001b[39;49m\u001b[38;5;241;43m*\u001b[39;49m\u001b[43mkwargs\u001b[49m\u001b[43m)\u001b[49m\n",
      "\u001b[1;31mTypeError\u001b[0m: show() got an unexpected keyword argument 'figsize'"
     ]
    },
    {
     "data": {
      "image/png": "[encoded data removed]",
      "text/plain": [
       "<Figure size 640x480 with 1 Axes>"
      ]
     },
     "metadata": {},
     "output_type": "display_data"
    }
   ],
   "source": [
    "# graph made with powerbi\n",
    "import matplotlib.pyplot as plt\n",
    "import matplotlib.image as mpimg\n",
    "img = mpimg.imread('png_job_postings.png')\n",
    "imgplot = plt.imshow(img)\n",
    "plt.show()"
   ]
  }
 ],
 "metadata": {
  "kernelspec": {
   "display_name": "Python 3 (ipykernel)",
   "language": "python",
   "name": "python3"
  },
  "language_info": {
   "codemirror_mode": {
    "name": "ipython",
    "version": 3
   },
   "file_extension": ".py",
   "mimetype": "text/x-python",
   "name": "python",
   "nbconvert_exporter": "python",
   "pygments_lexer": "ipython3",
   "version": "3.8.12"
  }
 },
 "nbformat": 4,
 "nbformat_minor": 5
}
