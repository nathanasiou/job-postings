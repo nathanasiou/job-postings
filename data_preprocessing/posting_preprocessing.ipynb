{
 "cells": [
  {
   "cell_type": "code",
   "execution_count": 1,
   "id": "8a56589f",
   "metadata": {},
   "outputs": [],
   "source": [
    "# import modules\n",
    "import pandas as pd\n",
    "import re"
   ]
  },
  {
   "cell_type": "code",
   "execution_count": 2,
   "id": "6a58b855",
   "metadata": {},
   "outputs": [],
   "source": [
    "df_posting_orig = pd.read_csv('job_postings.csv', skiprows = 1, usecols = range(1,5))"
   ]
  },
  {
   "cell_type": "code",
   "execution_count": 3,
   "id": "8b681cc7",
   "metadata": {},
   "outputs": [
    {
     "name": "stdout",
     "output_type": "stream",
     "text": [
      "                                               title  \\\n",
      "0                  AI Electrical / Computer Engineer   \n",
      "1  Clinical Laboratory Scientist CLS , Medical Da...   \n",
      "2                              Senior Data Scientist   \n",
      "3                                  Data Scientist II   \n",
      "4                           Data Scientist / Analyst   \n",
      "5                                     Data Scientist   \n",
      "6                                     Data Scientist   \n",
      "7                                  IT Data Scientist   \n",
      "8                              Senior Data Scientist   \n",
      "9                                     Data Scientist   \n",
      "\n",
      "                           company                 location  \\\n",
      "0  General Technical Services, LLC        Adelphi, MD 20783   \n",
      "1  Clinical Management Consultants            Palo Alto, CA   \n",
      "2                        WALGREENS      Deerfield, IL 60015   \n",
      "3                       Net2Source    Los Angeles, CA 90094   \n",
      "4                           Kforce     Juno Beach, FL 33408   \n",
      "5                   Hire IT people    Bentonville, AR 72712   \n",
      "6                          Parafin        San Francisco, CA   \n",
      "7                       System One         Topeka, KS 66606   \n",
      "8                      EarthOptics  Remote in Arlington, VA   \n",
      "9                      Fabrx Space                   Remote   \n",
      "\n",
      "                       salary  \n",
      "0                   Full-time  \n",
      "1   $85,225 - $135,355 a year  \n",
      "2                         NaN  \n",
      "3           $55 - $58 an hour  \n",
      "4           $35 - $45 an hour  \n",
      "5                 $58 an hour  \n",
      "6  $150,000 - $175,000 a year  \n",
      "7  $110,000 - $125,000 a year  \n",
      "8   $99,400 - $167,000 a year  \n",
      "9  $154,962 - $165,538 a year  \n",
      "                                  title                   company  \\\n",
      "1868                     Data Scientist          Neuberger Berman   \n",
      "1869                     Data Scientist      LinQuest Corporation   \n",
      "1870                 Sr. Data Scientist  Twinn Intelligence Group   \n",
      "1871                     Data Scientist  Buchanan And Edwards Inc   \n",
      "1872              Senior Data Scientist      Billtrust US Careers   \n",
      "1873                     Data Scientist                  Credible   \n",
      "1874   Director Statistical Programming  Penfield Search Partners   \n",
      "1875  Data Scientist, Product Analytics                      Meta   \n",
      "1876                     Data Scientist          Sunixa Solutions   \n",
      "1877                                NaN                       NaN   \n",
      "\n",
      "                                        location                      salary  \n",
      "1868                                New York, NY  $150,000 - $200,000 a year  \n",
      "1869                           Herndon, VA 20171                   Full-time  \n",
      "1870                               Chantilly, VA       Up to $170,000 a year  \n",
      "1871  Washington, DC 20535 \\n(Penn Quarter area)             $157,000 a year  \n",
      "1872                     Remote in Arlington, VA  $148,000 - $185,000 a year  \n",
      "1873                        Remote in Durham, NC  $124,000 - $165,000 a year  \n",
      "1874                               Cambridge, MA                   Full-time  \n",
      "1875                                      Remote  $134,000 - $194,000 a year  \n",
      "1876                                      Remote           $60 - $65 an hour  \n",
      "1877                                         NaN                         NaN  \n"
     ]
    }
   ],
   "source": [
    "print(df_posting_orig.head(10))\n",
    "print(df_posting_orig.tail(10))"
   ]
  },
  {
   "cell_type": "code",
   "execution_count": 4,
   "id": "5e2cd65b",
   "metadata": {},
   "outputs": [
    {
     "data": {
      "text/html": [
       "<div>\n",
       "<style scoped>\n",
       "    .dataframe tbody tr th:only-of-type {\n",
       "        vertical-align: middle;\n",
       "    }\n",
       "\n",
       "    .dataframe tbody tr th {\n",
       "        vertical-align: top;\n",
       "    }\n",
       "\n",
       "    .dataframe thead th {\n",
       "        text-align: right;\n",
       "    }\n",
       "</style>\n",
       "<table border=\"1\" class=\"dataframe\">\n",
       "  <thead>\n",
       "    <tr style=\"text-align: right;\">\n",
       "      <th></th>\n",
       "      <th>company</th>\n",
       "      <th>location</th>\n",
       "      <th>salary</th>\n",
       "    </tr>\n",
       "  </thead>\n",
       "  <tbody>\n",
       "    <tr>\n",
       "      <th>1872</th>\n",
       "      <td>Billtrust US Careers</td>\n",
       "      <td>Remote in Arlington, VA</td>\n",
       "      <td>$148,000 - $185,000 a year</td>\n",
       "    </tr>\n",
       "    <tr>\n",
       "      <th>1873</th>\n",
       "      <td>Credible</td>\n",
       "      <td>Remote in Durham, NC</td>\n",
       "      <td>$124,000 - $165,000 a year</td>\n",
       "    </tr>\n",
       "    <tr>\n",
       "      <th>1874</th>\n",
       "      <td>Penfield Search Partners</td>\n",
       "      <td>Cambridge, MA</td>\n",
       "      <td>Full-time</td>\n",
       "    </tr>\n",
       "    <tr>\n",
       "      <th>1875</th>\n",
       "      <td>Meta</td>\n",
       "      <td>Remote</td>\n",
       "      <td>$134,000 - $194,000 a year</td>\n",
       "    </tr>\n",
       "    <tr>\n",
       "      <th>1876</th>\n",
       "      <td>Sunixa Solutions</td>\n",
       "      <td>Remote</td>\n",
       "      <td>$60 - $65 an hour</td>\n",
       "    </tr>\n",
       "  </tbody>\n",
       "</table>\n",
       "</div>"
      ],
      "text/plain": [
       "                       company                 location  \\\n",
       "1872      Billtrust US Careers  Remote in Arlington, VA   \n",
       "1873                  Credible     Remote in Durham, NC   \n",
       "1874  Penfield Search Partners            Cambridge, MA   \n",
       "1875                      Meta                   Remote   \n",
       "1876          Sunixa Solutions                   Remote   \n",
       "\n",
       "                          salary  \n",
       "1872  $148,000 - $185,000 a year  \n",
       "1873  $124,000 - $165,000 a year  \n",
       "1874                   Full-time  \n",
       "1875  $134,000 - $194,000 a year  \n",
       "1876           $60 - $65 an hour  "
      ]
     },
     "execution_count": 4,
     "metadata": {},
     "output_type": "execute_result"
    }
   ],
   "source": [
    "df_posting_remix = df_posting_orig.iloc[:-1,1:] # selecting all but last row and first column\n",
    "df_posting_remix.tail()"
   ]
  },
  {
   "cell_type": "code",
   "execution_count": 5,
   "id": "98534b60",
   "metadata": {},
   "outputs": [],
   "source": [
    "# can see from the first and last 20 rows there are issues with salary being per year or per hour and some locations including zip codes\n",
    "# if per hour, then convert to salary\n",
    "# salary_remix = []\n",
    "# for pay in df_posting_remix['salary']:\n",
    "#     if 'hour' in str(pay):\n",
    "#         try:\n",
    "#             temp_pay = []\n",
    "#             pay_split = (pay.split('-'))\n",
    "#             for rate in pay_split:\n",
    "#                 # convert to salary by multiplying hourly rate by 40 hours/week and by 52 weeks/year\n",
    "#                 rate = int(''.join([(x) for x in rate if x.isdigit()])) * 40 * 52\n",
    "#                 temp_pay.append(rate)\n",
    "# #             print(temp_pay)\n",
    "#             st = \"\"\n",
    "#             for val in temp_pay:\n",
    "#                 if len(st) > 0:\n",
    "#                     st += \" - \" + str(val)\n",
    "#                 else:\n",
    "#                     st += str(val)\n",
    "#         except:\n",
    "#             st = pay\n",
    "#     elif'year' in str(pay):\n",
    "#         try: \n",
    "#             pay_new = pay[:-6]\n",
    "#             for val in temp_pay:\n",
    "#                 st = pay_new\n",
    "#                 print((st))\n",
    "#         except:\n",
    "#             st = pay\n",
    "#     else:\n",
    "#         st = pay\n",
    "#     salary_remix.append(st)\n",
    "            \n",
    "            "
   ]
  },
  {
   "cell_type": "code",
   "execution_count": 6,
   "id": "55038978",
   "metadata": {},
   "outputs": [],
   "source": [
    "# df_posting_remix['salary_remix'] = salary_remix"
   ]
  },
  {
   "cell_type": "code",
   "execution_count": 7,
   "id": "d572aaf4",
   "metadata": {},
   "outputs": [],
   "source": [
    "# df_posting_remix"
   ]
  },
  {
   "cell_type": "code",
   "execution_count": 8,
   "id": "6efe3a3b",
   "metadata": {},
   "outputs": [],
   "source": [
    "my_str = '$100,000'"
   ]
  },
  {
   "cell_type": "code",
   "execution_count": 9,
   "id": "b03ea8d5",
   "metadata": {},
   "outputs": [
    {
     "name": "stdout",
     "output_type": "stream",
     "text": [
      "100000\n",
      "$100,000\n"
     ]
    }
   ],
   "source": [
    "print(((my_str.replace(',',''))).replace('$', ''))\n",
    "print(my_str)"
   ]
  },
  {
   "cell_type": "code",
   "execution_count": 10,
   "id": "c706b92c",
   "metadata": {},
   "outputs": [],
   "source": [
    "# convert salary column to consistent format\n",
    "salary_new = []\n",
    "for posting_pay in df_posting_remix['salary']:\n",
    "    if 'year' in str(posting_pay):\n",
    "        # removes commas, dollar signs, and 'a year' text\n",
    "        salary_new.append(((posting_pay.replace(',','')).replace('$', '')).replace('a year', '')) \n",
    "    elif 'hour' in str(posting_pay):\n",
    "        pay_split = (posting_pay.split('-')) # splits separate strings on the '-'' as a list\n",
    "        temp_pay = [] \n",
    "        for rate in pay_split:\n",
    "        # removes extra text/characters, keeps the hourly number, converts to yearly pay\n",
    "            rate_conv = int(''.join([(x) for x in rate if x.isdigit()])) * 40 * 52 \n",
    "            temp_pay.append(rate_conv)\n",
    "        fin_pay = \"\"\n",
    "        for val in temp_pay: # joins list elements so that they match formatting with '-' in between\n",
    "            if temp_pay[0] == val:\n",
    "                fin_pay += str(val)\n",
    "            else:\n",
    "                fin_pay += \" - \" + str(val)\n",
    "        salary_new.append(fin_pay)\n",
    "    else:\n",
    "        salary_new.append('')\n",
    "        \n",
    "df_posting_remix['salary_updated'] = salary_new\n"
   ]
  },
  {
   "cell_type": "code",
   "execution_count": 11,
   "id": "3c600bb0",
   "metadata": {},
   "outputs": [
    {
     "name": "stdout",
     "output_type": "stream",
     "text": [
      "                              company                 location  \\\n",
      "0     General Technical Services, LLC        Adelphi, MD 20783   \n",
      "1     Clinical Management Consultants            Palo Alto, CA   \n",
      "2                           WALGREENS      Deerfield, IL 60015   \n",
      "3                          Net2Source    Los Angeles, CA 90094   \n",
      "4                              Kforce     Juno Beach, FL 33408   \n",
      "...                               ...                      ...   \n",
      "1872             Billtrust US Careers  Remote in Arlington, VA   \n",
      "1873                         Credible     Remote in Durham, NC   \n",
      "1874         Penfield Search Partners            Cambridge, MA   \n",
      "1875                             Meta                   Remote   \n",
      "1876                 Sunixa Solutions                   Remote   \n",
      "\n",
      "                          salary    salary_updated  \n",
      "0                      Full-time                    \n",
      "1      $85,225 - $135,355 a year   85225 - 135355   \n",
      "2                            NaN                    \n",
      "3              $55 - $58 an hour   114400 - 120640  \n",
      "4              $35 - $45 an hour     72800 - 93600  \n",
      "...                          ...               ...  \n",
      "1872  $148,000 - $185,000 a year  148000 - 185000   \n",
      "1873  $124,000 - $165,000 a year  124000 - 165000   \n",
      "1874                   Full-time                    \n",
      "1875  $134,000 - $194,000 a year  134000 - 194000   \n",
      "1876           $60 - $65 an hour   124800 - 135200  \n",
      "\n",
      "[1877 rows x 4 columns]\n"
     ]
    }
   ],
   "source": [
    "print(df_posting_remix)"
   ]
  },
  {
   "cell_type": "code",
   "execution_count": 12,
   "id": "213f392a",
   "metadata": {},
   "outputs": [],
   "source": [
    "# remove zip codes\n",
    "location_new = []\n",
    "for location in df_posting_remix['location']:\n",
    "    if '(' in str(location):\n",
    "        try:\n",
    "            index = 0\n",
    "            for char in location:\n",
    "                if '(' == char : \n",
    "                    temp_location = (location[:index]) # slice from open parenthese to end of string\n",
    "                    location_new.append(temp_location)\n",
    "                else:\n",
    "                    index += 1\n",
    "\n",
    "        except:\n",
    "            location_new.append(location)\n",
    "    else:\n",
    "        location_new.append(location)\n"
   ]
  },
  {
   "cell_type": "code",
   "execution_count": 13,
   "id": "93b96c67",
   "metadata": {},
   "outputs": [
    {
     "name": "stdout",
     "output_type": "stream",
     "text": [
      "1877\n"
     ]
    }
   ],
   "source": [
    "city_state = []\n",
    "for location in location_new:\n",
    "    try:\n",
    "        if (bool(re.search(r'\\d', location))): \n",
    "            city_state.append(str.strip(location)[:-6])\n",
    "    #         temp = (location[:-7]) # slice off zip code\n",
    "    #         print(temp)\n",
    "        else:\n",
    "            city_state.append(location)\n",
    "    except:\n",
    "        city_state.append(location)\n",
    "print(len(city_state))"
   ]
  },
  {
   "cell_type": "code",
   "execution_count": 14,
   "id": "ae667167",
   "metadata": {},
   "outputs": [],
   "source": [
    "df_posting_remix['city_state'] = city_state"
   ]
  },
  {
   "cell_type": "code",
   "execution_count": 15,
   "id": "67a562d1",
   "metadata": {},
   "outputs": [
    {
     "data": {
      "text/html": [
       "<div>\n",
       "<style scoped>\n",
       "    .dataframe tbody tr th:only-of-type {\n",
       "        vertical-align: middle;\n",
       "    }\n",
       "\n",
       "    .dataframe tbody tr th {\n",
       "        vertical-align: top;\n",
       "    }\n",
       "\n",
       "    .dataframe thead th {\n",
       "        text-align: right;\n",
       "    }\n",
       "</style>\n",
       "<table border=\"1\" class=\"dataframe\">\n",
       "  <thead>\n",
       "    <tr style=\"text-align: right;\">\n",
       "      <th></th>\n",
       "      <th>company</th>\n",
       "      <th>location</th>\n",
       "      <th>salary</th>\n",
       "      <th>salary_updated</th>\n",
       "      <th>city_state</th>\n",
       "    </tr>\n",
       "  </thead>\n",
       "  <tbody>\n",
       "    <tr>\n",
       "      <th>0</th>\n",
       "      <td>General Technical Services, LLC</td>\n",
       "      <td>Adelphi, MD 20783</td>\n",
       "      <td>Full-time</td>\n",
       "      <td></td>\n",
       "      <td>Adelphi, MD</td>\n",
       "    </tr>\n",
       "    <tr>\n",
       "      <th>1</th>\n",
       "      <td>Clinical Management Consultants</td>\n",
       "      <td>Palo Alto, CA</td>\n",
       "      <td>$85,225 - $135,355 a year</td>\n",
       "      <td>85225 - 135355</td>\n",
       "      <td>Palo Alto, CA</td>\n",
       "    </tr>\n",
       "    <tr>\n",
       "      <th>2</th>\n",
       "      <td>WALGREENS</td>\n",
       "      <td>Deerfield, IL 60015</td>\n",
       "      <td>NaN</td>\n",
       "      <td></td>\n",
       "      <td>Deerfield, IL</td>\n",
       "    </tr>\n",
       "    <tr>\n",
       "      <th>3</th>\n",
       "      <td>Net2Source</td>\n",
       "      <td>Los Angeles, CA 90094</td>\n",
       "      <td>$55 - $58 an hour</td>\n",
       "      <td>114400 - 120640</td>\n",
       "      <td>Los Angeles, CA</td>\n",
       "    </tr>\n",
       "    <tr>\n",
       "      <th>4</th>\n",
       "      <td>Kforce</td>\n",
       "      <td>Juno Beach, FL 33408</td>\n",
       "      <td>$35 - $45 an hour</td>\n",
       "      <td>72800 - 93600</td>\n",
       "      <td>Juno Beach, FL</td>\n",
       "    </tr>\n",
       "    <tr>\n",
       "      <th>...</th>\n",
       "      <td>...</td>\n",
       "      <td>...</td>\n",
       "      <td>...</td>\n",
       "      <td>...</td>\n",
       "      <td>...</td>\n",
       "    </tr>\n",
       "    <tr>\n",
       "      <th>1872</th>\n",
       "      <td>Billtrust US Careers</td>\n",
       "      <td>Remote in Arlington, VA</td>\n",
       "      <td>$148,000 - $185,000 a year</td>\n",
       "      <td>148000 - 185000</td>\n",
       "      <td>Remote in Arlington, VA</td>\n",
       "    </tr>\n",
       "    <tr>\n",
       "      <th>1873</th>\n",
       "      <td>Credible</td>\n",
       "      <td>Remote in Durham, NC</td>\n",
       "      <td>$124,000 - $165,000 a year</td>\n",
       "      <td>124000 - 165000</td>\n",
       "      <td>Remote in Durham, NC</td>\n",
       "    </tr>\n",
       "    <tr>\n",
       "      <th>1874</th>\n",
       "      <td>Penfield Search Partners</td>\n",
       "      <td>Cambridge, MA</td>\n",
       "      <td>Full-time</td>\n",
       "      <td></td>\n",
       "      <td>Cambridge, MA</td>\n",
       "    </tr>\n",
       "    <tr>\n",
       "      <th>1875</th>\n",
       "      <td>Meta</td>\n",
       "      <td>Remote</td>\n",
       "      <td>$134,000 - $194,000 a year</td>\n",
       "      <td>134000 - 194000</td>\n",
       "      <td>Remote</td>\n",
       "    </tr>\n",
       "    <tr>\n",
       "      <th>1876</th>\n",
       "      <td>Sunixa Solutions</td>\n",
       "      <td>Remote</td>\n",
       "      <td>$60 - $65 an hour</td>\n",
       "      <td>124800 - 135200</td>\n",
       "      <td>Remote</td>\n",
       "    </tr>\n",
       "  </tbody>\n",
       "</table>\n",
       "<p>1877 rows × 5 columns</p>\n",
       "</div>"
      ],
      "text/plain": [
       "                              company                 location  \\\n",
       "0     General Technical Services, LLC        Adelphi, MD 20783   \n",
       "1     Clinical Management Consultants            Palo Alto, CA   \n",
       "2                           WALGREENS      Deerfield, IL 60015   \n",
       "3                          Net2Source    Los Angeles, CA 90094   \n",
       "4                              Kforce     Juno Beach, FL 33408   \n",
       "...                               ...                      ...   \n",
       "1872             Billtrust US Careers  Remote in Arlington, VA   \n",
       "1873                         Credible     Remote in Durham, NC   \n",
       "1874         Penfield Search Partners            Cambridge, MA   \n",
       "1875                             Meta                   Remote   \n",
       "1876                 Sunixa Solutions                   Remote   \n",
       "\n",
       "                          salary    salary_updated               city_state  \n",
       "0                      Full-time                                Adelphi, MD  \n",
       "1      $85,225 - $135,355 a year   85225 - 135355             Palo Alto, CA  \n",
       "2                            NaN                              Deerfield, IL  \n",
       "3              $55 - $58 an hour   114400 - 120640          Los Angeles, CA  \n",
       "4              $35 - $45 an hour     72800 - 93600           Juno Beach, FL  \n",
       "...                          ...               ...                      ...  \n",
       "1872  $148,000 - $185,000 a year  148000 - 185000   Remote in Arlington, VA  \n",
       "1873  $124,000 - $165,000 a year  124000 - 165000      Remote in Durham, NC  \n",
       "1874                   Full-time                              Cambridge, MA  \n",
       "1875  $134,000 - $194,000 a year  134000 - 194000                    Remote  \n",
       "1876           $60 - $65 an hour   124800 - 135200                   Remote  \n",
       "\n",
       "[1877 rows x 5 columns]"
      ]
     },
     "execution_count": 15,
     "metadata": {},
     "output_type": "execute_result"
    }
   ],
   "source": [
    "df_posting_remix"
   ]
  },
  {
   "cell_type": "code",
   "execution_count": 16,
   "id": "d58cc740",
   "metadata": {},
   "outputs": [
    {
     "name": "stdout",
     "output_type": "stream",
     "text": [
      "1877\n"
     ]
    }
   ],
   "source": [
    "# split city_state into remote/hybrid/in-person\n",
    "envir = []\n",
    "for entry in city_state:\n",
    "    try:\n",
    "        if 'hybrid' in str.lower(entry):\n",
    "            if 'in' in str.lower(entry):\n",
    "                envir.append(str.split(entry, ' remote in '))\n",
    "            elif 'remote' in str.lower(entry):\n",
    "                envir.append(str.split(entry, ' remote'))\n",
    "            \n",
    "        elif 'remote' in str.lower(entry):\n",
    "            if 'in' in str.lower(entry):\n",
    "                envir.append(str.split(entry, ' in '))\n",
    "            else:\n",
    "                envir.append([entry, 'Remote'])\n",
    "        else:\n",
    "            envir.append(['In-Person', entry])\n",
    "    except:\n",
    "        envir.append(['In-Person', 'Unknown']) # assuming if 'nan' likely in-person\n",
    "print(len(envir))"
   ]
  },
  {
   "cell_type": "code",
   "execution_count": 17,
   "id": "ed1d6fbd",
   "metadata": {},
   "outputs": [],
   "source": [
    "environment = []\n",
    "location_new = []\n",
    "for lst in envir:\n",
    "    try:\n",
    "        environment.append(lst[0])\n",
    "        location_new.append(lst[1])\n",
    "    except:\n",
    "        print(lst)"
   ]
  },
  {
   "cell_type": "code",
   "execution_count": 18,
   "id": "bc4533e3",
   "metadata": {},
   "outputs": [],
   "source": [
    "df_posting_remix['environment']=environment\n",
    "df_posting_remix['location_updated'] = location_new"
   ]
  },
  {
   "cell_type": "code",
   "execution_count": 19,
   "id": "653dc390",
   "metadata": {},
   "outputs": [],
   "source": [
    "df_posting_clean = ((df_posting_remix.drop('location', axis = 1)).drop('salary', axis = 1)).drop('city_state', axis = 1)"
   ]
  },
  {
   "cell_type": "code",
   "execution_count": 20,
   "id": "cb435c4d",
   "metadata": {},
   "outputs": [],
   "source": [
    "df_posting_clean.to_csv('df_posting_clean.csv')"
   ]
  }
 ],
 "metadata": {
  "kernelspec": {
   "display_name": "Python 3 (ipykernel)",
   "language": "python",
   "name": "python3"
  },
  "language_info": {
   "codemirror_mode": {
    "name": "ipython",
    "version": 3
   },
   "file_extension": ".py",
   "mimetype": "text/x-python",
   "name": "python",
   "nbconvert_exporter": "python",
   "pygments_lexer": "ipython3",
   "version": "3.8.12"
  }
 },
 "nbformat": 4,
 "nbformat_minor": 5
}
